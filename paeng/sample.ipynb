{
 "cells": [
  {
   "cell_type": "code",
   "execution_count": 12,
   "metadata": {},
   "outputs": [],
   "source": [
    "a = [1, 5, 2, 6, 3, 7, 4]  \n",
    "c = [[2, 5, 3], [4, 4, 1], [1, 7, 3]]  "
   ]
  },
  {
   "cell_type": "code",
   "execution_count": 13,
   "metadata": {},
   "outputs": [],
   "source": [
    "commands = c\n",
    "array = a"
   ]
  },
  {
   "cell_type": "code",
   "execution_count": 14,
   "metadata": {},
   "outputs": [],
   "source": [
    "answer = []\n",
    "for command in commands:\n",
    "    i,j,k = command             #command가 [2, 5, 3]이라면\n",
    "                                #i = 2, j = 5, k = 3\n",
    "    answer.append(list(sorted(array[i-1:j]))[k-1])\n",
    "    # list()는 넣어도되고 안 넣어도 될듯!"
   ]
  },
  {
   "cell_type": "code",
   "execution_count": 15,
   "metadata": {},
   "outputs": [
    {
     "name": "stdout",
     "output_type": "stream",
     "text": [
      "[5, 6, 3]\n"
     ]
    }
   ],
   "source": [
    "print(answer)"
   ]
  },
  {
   "cell_type": "code",
   "execution_count": null,
   "metadata": {},
   "outputs": [],
   "source": []
  }
 ],
 "metadata": {
  "interpreter": {
   "hash": "ac95dea9842efc2f5d121ded31c647d1ecbc2ce303fe3301806bbab4983ee850"
  },
  "kernelspec": {
   "display_name": "Python 3.7.11 ('test': conda)",
   "language": "python",
   "name": "python3"
  },
  "language_info": {
   "codemirror_mode": {
    "name": "ipython",
    "version": 3
   },
   "file_extension": ".py",
   "mimetype": "text/x-python",
   "name": "python",
   "nbconvert_exporter": "python",
   "pygments_lexer": "ipython3",
   "version": "3.7.11"
  },
  "orig_nbformat": 4
 },
 "nbformat": 4,
 "nbformat_minor": 2
}
